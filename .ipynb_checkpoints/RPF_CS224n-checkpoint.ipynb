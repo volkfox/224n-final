{
 "cells": [
  {
   "cell_type": "raw",
   "metadata": {
    "button": false,
    "colab_type": "text",
    "deletable": true,
    "id": "view-in-github",
    "new_sheet": false,
    "run_control": {
     "read_only": false
    }
   },
   "source": [
    "<a href=\"https://colab.research.google.com/github/volkfox/224n-final/blob/master/RPF_CS224n.ipynb\" target=\"_parent\"><img src=\"https://colab.research.google.com/assets/colab-badge.svg\" alt=\"Open In Colab\"/></a>"
   ]
  },
  {
   "cell_type": "code",
   "execution_count": null,
   "metadata": {
    "button": false,
    "colab": {},
    "colab_type": "code",
    "collapsed": true,
    "deletable": true,
    "id": "I6o7cfFrJqOn",
    "new_sheet": false,
    "run_control": {
     "read_only": false
    }
   },
   "outputs": [],
   "source": [
    "# need to upload the training corpus file named \"small.wiki\" \n",
    "# !wget https://drive.google.com/open?id=1EGKoNOlaR84UL6Y1luxUXuus3UX2tXQL\n",
    "\n",
    "from google.colab import files\n",
    "files.upload()"
   ]
  },
  {
   "cell_type": "markdown",
   "metadata": {
    "button": false,
    "colab_type": "text",
    "deletable": true,
    "id": "rHn_26BHO5C5",
    "new_sheet": false,
    "run_control": {
     "read_only": false
    }
   },
   "source": [
    "###### This jupyter sheet is an RPF generator. It can run on GC, Azure, AWS or Oracle Cloud.\n",
    "For it to work, runtime has to be supported by GPU with 16GB or more (does not happen often on free tier)"
   ]
  },
  {
   "cell_type": "code",
   "execution_count": 1,
   "metadata": {
    "button": false,
    "colab": {},
    "colab_type": "code",
    "collapsed": false,
    "deletable": true,
    "id": "iyVYZnZW7JVo",
    "new_sheet": false,
    "run_control": {
     "read_only": false
    }
   },
   "outputs": [
    {
     "name": "stdout",
     "output_type": "stream",
     "text": [
      "--tf_xla_cpu_global_jit=/home/volkot/.local/lib/python3.6/site-packages/tensorflow/compiler/xla:$TF_XLA_FLAGS=--tf_xla_cpu_global_jit\r\n"
     ]
    }
   ],
   "source": [
    "# check your GPU luck\n",
    "#import os\n",
    "#os.environ[\"TF_XLA_FLAGS\"]=\"--tf_xla_cpu_global_jit=/home/volkot/.local/lib/python3.6/site-packages/tensorflow/compiler/xla:$TF_XLA_FLAGS=--tf_xla_cpu_global_jit\"\n",
    "!echo $TF_XLA_FLAGS\n",
    "!nvidia-smi\n",
    "#"
   ]
  },
  {
   "cell_type": "code",
   "execution_count": 2,
   "metadata": {
    "button": false,
    "collapsed": true,
    "deletable": true,
    "new_sheet": false,
    "run_control": {
     "read_only": false
    }
   },
   "outputs": [],
   "source": [
    "# @kernel-restart\n",
    "# Random wiki article\n",
    "\n",
    "input = \"\"\"The cat (Felis catus) is a small carnivorous mammal. \n",
    "It is the only domesticated species in the family Felidae and often referred to as the domestic cat to distinguish it from wild members of the family.\n",
    "The cat is either a house cat, a farm cat or a feral cat; latter ranges freely and avoids human contact. \n",
    "Domestic cats are valued by humans for companionship and for their ability to hunt rodents. About 60 cat breeds are recognized by various cat registries.\n",
    "The cat is similar in anatomy to the other felid species, has a strong flexible body, quick reflexes, sharp teeth and retractable claws adapted to killing small prey. \n",
    "Its night vision and sense of smell are well developed. Cat communication includes vocalizations like meowing, purring, trilling, hissing, growling and grunting as well as cat-specific body language. \n",
    "It is a solitary hunter, but a social species. It can hear sounds too faint or too high in frequency for human ears, such as those made by mice and other small mammals. \n",
    "It is a predator that is most active at dawn and dusk.It secretes and perceives pheromones.\"\"\"\n",
    "\n"
   ]
  },
  {
   "cell_type": "code",
   "execution_count": 8,
   "metadata": {
    "button": false,
    "colab": {
     "base_uri": "https://localhost:8080/",
     "height": 578
    },
    "colab_type": "code",
    "collapsed": false,
    "deletable": true,
    "id": "5YaJs3eY9FL5",
    "new_sheet": false,
    "outputId": "7f24633a-9846-43d2-d450-9e3f5cef1ff3",
    "run_control": {
     "read_only": false
    },
    "scrolled": true
   },
   "outputs": [
    {
     "name": "stdout",
     "output_type": "stream",
     "text": [
      "Requirement already satisfied: sacremoses in ./anaconda3/lib/python3.7/site-packages (0.0.38)\n",
      "Requirement already satisfied: joblib in ./anaconda3/lib/python3.7/site-packages (from sacremoses) (0.14.1)\n",
      "Requirement already satisfied: tqdm in ./anaconda3/lib/python3.7/site-packages (from sacremoses) (4.31.1)\n",
      "Requirement already satisfied: click in ./anaconda3/lib/python3.7/site-packages (from sacremoses) (7.0)\n",
      "Requirement already satisfied: six in ./anaconda3/lib/python3.7/site-packages (from sacremoses) (1.12.0)\n",
      "Requirement already satisfied: regex in ./anaconda3/lib/python3.7/site-packages (from sacremoses) (2020.2.20)\n",
      "Requirement already satisfied: gpt-2-simple in ./anaconda3/lib/python3.7/site-packages (0.7.1)\n",
      "Requirement already satisfied: regex in ./anaconda3/lib/python3.7/site-packages (from gpt-2-simple) (2020.2.20)\n",
      "Requirement already satisfied: numpy in ./anaconda3/lib/python3.7/site-packages (from gpt-2-simple) (1.16.2)\n",
      "Requirement already satisfied: toposort in ./anaconda3/lib/python3.7/site-packages (from gpt-2-simple) (1.5)\n",
      "Requirement already satisfied: tqdm in ./anaconda3/lib/python3.7/site-packages (from gpt-2-simple) (4.31.1)\n",
      "Requirement already satisfied: requests in ./anaconda3/lib/python3.7/site-packages (from gpt-2-simple) (2.21.0)\n",
      "Requirement already satisfied: certifi>=2017.4.17 in ./anaconda3/lib/python3.7/site-packages (from requests->gpt-2-simple) (2019.11.28)\n",
      "Requirement already satisfied: idna<2.9,>=2.5 in ./anaconda3/lib/python3.7/site-packages (from requests->gpt-2-simple) (2.8)\n",
      "Requirement already satisfied: chardet<3.1.0,>=3.0.2 in ./anaconda3/lib/python3.7/site-packages (from requests->gpt-2-simple) (3.0.4)\n",
      "Requirement already satisfied: urllib3<1.25,>=1.21.1 in ./anaconda3/lib/python3.7/site-packages (from requests->gpt-2-simple) (1.24.1)\n",
      "Requirement already satisfied: nltk in ./anaconda3/lib/python3.7/site-packages (3.4)\n",
      "Requirement already satisfied: six in ./anaconda3/lib/python3.7/site-packages (from nltk) (1.12.0)\n",
      "Requirement already satisfied: singledispatch in ./anaconda3/lib/python3.7/site-packages (from nltk) (3.4.0.3)\n",
      "Collecting wrapt\n",
      "Installing collected packages: wrapt\n",
      "Successfully installed wrapt-1.12.0\n",
      "Requirement already up-to-date: tensorflow-gpu==1.14 in ./anaconda3/lib/python3.7/site-packages (1.14.0)\n",
      "Requirement already satisfied, skipping upgrade: wrapt>=1.11.1 in ./anaconda3/lib/python3.7/site-packages (from tensorflow-gpu==1.14) (1.12.0)\n",
      "Requirement already satisfied, skipping upgrade: keras-preprocessing>=1.0.5 in ./anaconda3/lib/python3.7/site-packages (from tensorflow-gpu==1.14) (1.1.0)\n",
      "Requirement already satisfied, skipping upgrade: termcolor>=1.1.0 in ./anaconda3/lib/python3.7/site-packages (from tensorflow-gpu==1.14) (1.1.0)\n",
      "Requirement already satisfied, skipping upgrade: absl-py>=0.7.0 in ./anaconda3/lib/python3.7/site-packages (from tensorflow-gpu==1.14) (0.9.0)\n",
      "Requirement already satisfied, skipping upgrade: six>=1.10.0 in ./anaconda3/lib/python3.7/site-packages (from tensorflow-gpu==1.14) (1.12.0)\n",
      "Requirement already satisfied, skipping upgrade: protobuf>=3.6.1 in ./anaconda3/lib/python3.7/site-packages (from tensorflow-gpu==1.14) (3.11.3)\n",
      "Requirement already satisfied, skipping upgrade: grpcio>=1.8.6 in ./anaconda3/lib/python3.7/site-packages (from tensorflow-gpu==1.14) (1.27.2)\n",
      "Requirement already satisfied, skipping upgrade: wheel>=0.26 in ./anaconda3/lib/python3.7/site-packages (from tensorflow-gpu==1.14) (0.33.1)\n",
      "Requirement already satisfied, skipping upgrade: astor>=0.6.0 in ./anaconda3/lib/python3.7/site-packages (from tensorflow-gpu==1.14) (0.8.1)\n",
      "Requirement already satisfied, skipping upgrade: keras-applications>=1.0.6 in ./anaconda3/lib/python3.7/site-packages (from tensorflow-gpu==1.14) (1.0.8)\n",
      "Requirement already satisfied, skipping upgrade: numpy<2.0,>=1.14.5 in ./anaconda3/lib/python3.7/site-packages (from tensorflow-gpu==1.14) (1.16.2)\n",
      "Requirement already satisfied, skipping upgrade: gast>=0.2.0 in ./anaconda3/lib/python3.7/site-packages (from tensorflow-gpu==1.14) (0.3.3)\n",
      "Requirement already satisfied, skipping upgrade: google-pasta>=0.1.6 in ./anaconda3/lib/python3.7/site-packages (from tensorflow-gpu==1.14) (0.1.8)\n",
      "Requirement already satisfied, skipping upgrade: tensorflow-estimator<1.15.0rc0,>=1.14.0rc0 in ./anaconda3/lib/python3.7/site-packages (from tensorflow-gpu==1.14) (1.14.0)\n",
      "Requirement already satisfied, skipping upgrade: tensorboard<1.15.0,>=1.14.0 in ./anaconda3/lib/python3.7/site-packages (from tensorflow-gpu==1.14) (1.14.0)\n",
      "Requirement already satisfied, skipping upgrade: setuptools in ./anaconda3/lib/python3.7/site-packages (from protobuf>=3.6.1->tensorflow-gpu==1.14) (45.2.0)\n",
      "Requirement already satisfied, skipping upgrade: h5py in ./anaconda3/lib/python3.7/site-packages (from keras-applications>=1.0.6->tensorflow-gpu==1.14) (2.9.0)\n",
      "Requirement already satisfied, skipping upgrade: werkzeug>=0.11.15 in ./anaconda3/lib/python3.7/site-packages (from tensorboard<1.15.0,>=1.14.0->tensorflow-gpu==1.14) (0.14.1)\n",
      "Requirement already satisfied, skipping upgrade: markdown>=2.6.8 in ./anaconda3/lib/python3.7/site-packages (from tensorboard<1.15.0,>=1.14.0->tensorflow-gpu==1.14) (3.2.1)\n",
      "Requirement already satisfied: tensorflow-hub in ./anaconda3/lib/python3.7/site-packages (0.7.0)\n",
      "Requirement already satisfied: six>=1.10.0 in ./anaconda3/lib/python3.7/site-packages (from tensorflow-hub) (1.12.0)\n",
      "Requirement already satisfied: numpy>=1.12.0 in ./anaconda3/lib/python3.7/site-packages (from tensorflow-hub) (1.16.2)\n",
      "Requirement already satisfied: protobuf>=3.4.0 in ./anaconda3/lib/python3.7/site-packages (from tensorflow-hub) (3.11.3)\n",
      "Requirement already satisfied: setuptools in ./anaconda3/lib/python3.7/site-packages (from protobuf>=3.4.0->tensorflow-hub) (45.2.0)\n"
     ]
    }
   ],
   "source": [
    "# one-time\n",
    "# install dependencies if not in ML environment\n",
    "\n",
    "!pip install sacremoses\n",
    "!pip install gpt-2-simple \n",
    "!pip install nltk\n",
    "!pip install wrapt --upgrade --ignore-installed\n",
    "!pip install --upgrade tensorflow-gpu==1.14\n",
    "!pip install tensorflow-hub \n",
    "\n",
    "# instructions to enable 774M model:\n",
    "#\n",
    "# vi /home/ubuntu/anaconda3/lib/python3.7/site-packages/gpt_2_simple/gpt_2.py\n",
    "# comment out line: assert model_name not in ['774M', '1558M']"
   ]
  },
  {
   "cell_type": "code",
   "execution_count": 3,
   "metadata": {
    "button": false,
    "colab": {
     "base_uri": "https://localhost:8080/",
     "height": 51
    },
    "colab_type": "code",
    "collapsed": true,
    "deletable": true,
    "id": "ztLigiKA9Tle",
    "new_sheet": false,
    "outputId": "da0955e4-01fe-4575-feef-dc179f071406",
    "run_control": {
     "read_only": false
    },
    "scrolled": true
   },
   "outputs": [],
   "source": [
    "# @kernel restart\n",
    "\n",
    "import sys, getopt\n",
    "import gc\n",
    "from pathlib import Path\n",
    "from sacremoses import MosesDetokenizer\n",
    "import gpt_2_simple as gpt2\n",
    "import tensorflow_hub as hub\n",
    "import tensorflow as tf\n",
    "import pandas as pd \n",
    "import numpy as np\n",
    "import nltk\n",
    "from nltk.tokenize import word_tokenize\n",
    "from nltk.tokenize import sent_tokenize"
   ]
  },
  {
   "cell_type": "code",
   "execution_count": null,
   "metadata": {
    "button": false,
    "colab": {
     "base_uri": "https://localhost:8080/",
     "height": 68
    },
    "colab_type": "code",
    "collapsed": true,
    "deletable": true,
    "id": "bh5M0YtAbTLt",
    "new_sheet": false,
    "outputId": "372e1752-ef7b-42df-dfec-0454da8467eb",
    "run_control": {
     "read_only": false
    }
   },
   "outputs": [],
   "source": [
    "# one-time\n",
    "# download tokenizer file\n",
    "nltk.download('punkt')"
   ]
  },
  {
   "cell_type": "code",
   "execution_count": 4,
   "metadata": {
    "button": false,
    "colab": {},
    "colab_type": "code",
    "collapsed": true,
    "deletable": true,
    "id": "B5sSsJ7--ERt",
    "new_sheet": false,
    "run_control": {
     "read_only": false
    }
   },
   "outputs": [],
   "source": [
    "# @kernel restart\n",
    "# GPT-2 released three models\n",
    "#model_name=\"117M\"\n",
    "#model_name=\"774M\"\n",
    "\n",
    "model_name=\"345M\"\n",
    "\n",
    "# hyperparameters\n",
    "minsimilarity = 0.88 # rejection threshold: 0.68 for lit.\n",
    "# lexeme bounds\n",
    "maxonepiece = 7      # max leftover chunk we are not willing to break\n",
    "minwords = 3         # min lexeme length if it is a logical block ending in ;, -, --\n",
    "softminwords = 7     # min lexeme ending in , -and-, or  \n",
    "maxwords = 16        # max lexeme without a clear block end\n",
    "# generator parameters\n",
    "temperature = 0.92    # generator madness\n",
    "seedLexemes = 10     # how many lexemes to put in a prior\n",
    "nsamples = 10000      # number of samples generated to choose from\n",
    "\n",
    "\n",
    "bestLexemes = []\n",
    "output = \"\"\n",
    "\n",
    "# this is your style for GPT-2 finetuning\n",
    "style = \"small.wiki\"\n",
    "\n",
    "# content input and output\n",
    "generator_name = 'Trained-wiki'\n",
    "outfile = generator_name+\"_\"+model_name+\"_\"+str(nsamples)+\"_\"+style\n",
    "sfile = outfile+\".stats\"\n",
    "\n",
    "# get around resource exhaustion for embeddings\n",
    "config = tf.ConfigProto(\n",
    "        device_count = {'GPU': 1} # may select 0 on Google Collab\n",
    "        #device_count = {'GPU': 0}\n",
    "    )\n",
    "config.gpu_options.allow_growth = True\n"
   ]
  },
  {
   "cell_type": "code",
   "execution_count": 5,
   "metadata": {
    "button": false,
    "colab": {
     "base_uri": "https://localhost:8080/",
     "height": 173
    },
    "colab_type": "code",
    "collapsed": false,
    "deletable": true,
    "id": "RCuLOVes-Jvo",
    "new_sheet": false,
    "outputId": "9b0f226b-84ee-4131-cdd2-d77155e800fc",
    "run_control": {
     "read_only": false
    },
    "scrolled": true
   },
   "outputs": [
    {
     "name": "stdout",
     "output_type": "stream",
     "text": [
      "INFO:tensorflow:Saver not created because there are no variables in the graph to restore\n"
     ]
    },
    {
     "name": "stderr",
     "output_type": "stream",
     "text": [
      "INFO:tensorflow:Saver not created because there are no variables in the graph to restore\n"
     ]
    }
   ],
   "source": [
    "# @kernel restart\n",
    "# init tokenizer and sentence embedder\n",
    "tokenizer = nltk.tokenize.punkt.PunktSentenceTokenizer()\n",
    "dt = MosesDetokenizer()\n",
    "\n",
    "# Google Sentence encoder v2 appears worse than V1\n",
    "#module_url = \"https://tfhub.dev/google/universal-sentence-encoder/1?tf-hub-format=compressed\"\n",
    "module_url = \"https://tfhub.dev/google/universal-sentence-encoder/2\"\n",
    "\n",
    "embed = hub.Module(module_url)\n",
    "similarity_input_placeholder = tf.placeholder(tf.string, shape=(None))\n",
    "similarity_message_encodings = embed(similarity_input_placeholder)"
   ]
  },
  {
   "cell_type": "code",
   "execution_count": null,
   "metadata": {
    "button": false,
    "colab": {
     "base_uri": "https://localhost:8080/",
     "height": 136
    },
    "colab_type": "code",
    "collapsed": true,
    "deletable": true,
    "id": "B3XQ_r2RD3MN",
    "new_sheet": false,
    "outputId": "a5fd5aa0-8f24-4738-9491-0fd5e828f17e",
    "run_control": {
     "read_only": false
    }
   },
   "outputs": [],
   "source": [
    "# download GPT-2 model (only needed once)\n",
    "gpt2.download_gpt2(model_name=model_name)\n"
   ]
  },
  {
   "cell_type": "code",
   "execution_count": 6,
   "metadata": {
    "button": false,
    "colab": {
     "base_uri": "https://localhost:8080/",
     "height": 24993
    },
    "colab_type": "code",
    "collapsed": false,
    "deletable": true,
    "id": "UO6-wr7dGs67",
    "new_sheet": false,
    "outputId": "6ed2870e-1b59-4ced-86c1-6fb0dff58a9c",
    "run_control": {
     "read_only": false
    },
    "scrolled": true
   },
   "outputs": [
    {
     "name": "stdout",
     "output_type": "stream",
     "text": [
      "WARNING:tensorflow:From /home/volkot/anaconda3/lib/python3.7/site-packages/gpt_2_simple/src/sample.py:17: add_dispatch_support.<locals>.wrapper (from tensorflow.python.ops.array_ops) is deprecated and will be removed in a future version.\n",
      "Instructions for updating:\n",
      "Use tf.where in 2.0, which has the same broadcast rule as np.where\n"
     ]
    },
    {
     "name": "stderr",
     "output_type": "stream",
     "text": [
      "WARNING:tensorflow:From /home/volkot/anaconda3/lib/python3.7/site-packages/gpt_2_simple/src/sample.py:17: add_dispatch_support.<locals>.wrapper (from tensorflow.python.ops.array_ops) is deprecated and will be removed in a future version.\n",
      "Instructions for updating:\n",
      "Use tf.where in 2.0, which has the same broadcast rule as np.where\n"
     ]
    },
    {
     "name": "stdout",
     "output_type": "stream",
     "text": [
      "Loading checkpoint checkpoint/run1/model-8016\n",
      "WARNING:tensorflow:From /home/volkot/anaconda3/lib/python3.7/site-packages/tensorflow/python/training/saver.py:1276: checkpoint_exists (from tensorflow.python.training.checkpoint_management) is deprecated and will be removed in a future version.\n",
      "Instructions for updating:\n",
      "Use standard file APIs to check for files with this prefix.\n"
     ]
    },
    {
     "name": "stderr",
     "output_type": "stream",
     "text": [
      "WARNING:tensorflow:From /home/volkot/anaconda3/lib/python3.7/site-packages/tensorflow/python/training/saver.py:1276: checkpoint_exists (from tensorflow.python.training.checkpoint_management) is deprecated and will be removed in a future version.\n",
      "Instructions for updating:\n",
      "Use standard file APIs to check for files with this prefix.\n"
     ]
    },
    {
     "name": "stdout",
     "output_type": "stream",
     "text": [
      "INFO:tensorflow:Restoring parameters from checkpoint/run1/model-8016\n"
     ]
    },
    {
     "name": "stderr",
     "output_type": "stream",
     "text": [
      "INFO:tensorflow:Restoring parameters from checkpoint/run1/model-8016\n",
      "  0%|          | 0/1 [00:00<?, ?it/s]"
     ]
    },
    {
     "name": "stdout",
     "output_type": "stream",
     "text": [
      "Loading dataset...\n"
     ]
    },
    {
     "name": "stderr",
     "output_type": "stream",
     "text": [
      "100%|██████████| 1/1 [01:17<00:00, 77.98s/it]\n"
     ]
    },
    {
     "name": "stdout",
     "output_type": "stream",
     "text": [
      "dataset has 12815132 tokens\n",
      "Training...\n",
      "Saving checkpoint/run1/model-8016\n",
      "[8017 | 17.17] loss=2.78 avg=2.78\n",
      "Saving checkpoint/run1/model-8017\n",
      "WARNING:tensorflow:From /home/volkot/anaconda3/lib/python3.7/site-packages/tensorflow/python/training/saver.py:960: remove_checkpoint (from tensorflow.python.training.checkpoint_management) is deprecated and will be removed in a future version.\n",
      "Instructions for updating:\n",
      "Use standard file APIs to delete files with this prefix.\n"
     ]
    },
    {
     "name": "stderr",
     "output_type": "stream",
     "text": [
      "WARNING:tensorflow:From /home/volkot/anaconda3/lib/python3.7/site-packages/tensorflow/python/training/saver.py:960: remove_checkpoint (from tensorflow.python.training.checkpoint_management) is deprecated and will be removed in a future version.\n",
      "Instructions for updating:\n",
      "Use standard file APIs to delete files with this prefix.\n"
     ]
    }
   ],
   "source": [
    "# TRAINING\n",
    "# set number of steps for finetuning or load the pretrained model\n",
    "# if a model is already mounted, no training required\n",
    "\n",
    "sess = gpt2.start_tf_sess()\n",
    "\n",
    "# load an existing, fine-tuned model\n",
    "\n",
    "# gpt2.load_gpt2(sess)\n",
    "#\n",
    "# finetuning frequently fails in collab based on resource exhaustion\n",
    "# Good training duration results in avg loss between 0.2 and 0.9 (~20K training iterations on 345M model)\n",
    "#\n",
    "# GPT-2 can generate coherent output even on low finetuning, but with generic style (default)\n",
    "\n",
    "# fine-tune from scratch\n",
    "\n",
    "gpt2.finetune(sess, style, model_name=model_name, restore_from = 'latest', overwrite=True, steps=8000)\n",
    "\n",
    "# continue training from a saved model if the kernel restarted\n",
    "\n",
    "#gpt2.finetune(sess, style, model_name=model_name, overwrite=True, steps=1)"
   ]
  },
  {
   "cell_type": "code",
   "execution_count": 7,
   "metadata": {
    "button": false,
    "colab": {},
    "colab_type": "code",
    "collapsed": true,
    "deletable": true,
    "id": "ePqv72z4Sn8_",
    "new_sheet": false,
    "run_control": {
     "read_only": false
    }
   },
   "outputs": [],
   "source": [
    "# @every kernel restart\n",
    "# take a list of unstructured expansions and tidy them up\n",
    "# works around the following problem: the generated piece may include seed or not\n",
    "#\n",
    "# expansion formation rules: seed phrase deleted, truncation at first end \n",
    "# of sentence, the last comma, or allow to run off unclipped otherwise\n",
    "# \n",
    "\n",
    "def cleaned(expansions, seed):\n",
    "\n",
    "   seedbag = word_tokenize(seed)\n",
    "   cutseed = dt.detokenize(seedbag[1:])\n",
    "   symlen = len(cutseed)\n",
    "   clean = []\n",
    "   expansion = \"\"\n",
    "   for exp in expansions:\n",
    "      pos = exp.find(cutseed)\n",
    "      if pos > 0:\n",
    "         expansion = exp[pos+symlen:].strip()\n",
    "      else:\n",
    "         # sometimes search is thrown off w/special characters\n",
    "         # heuristics here assumes expansion larger than seed must be trimmed\n",
    "         expbag = word_tokenize(exp)\n",
    "         if len(expbag) > len(seedbag):\n",
    "            expansion = dt.detokenize(expbag[len(seedbag):])\n",
    "         else:\n",
    "            \n",
    "         # all attempts to identify seed failed, assume generator gave no seed\n",
    "            expansion = exp\n",
    "            \n",
    "      # try to end with a period\n",
    "      pos = expansion.find(\".\")\n",
    "      if pos > 0:\n",
    "         expansion = expansion[:pos]+\".\"\n",
    "      else: # or exclamation\n",
    "         pos = expansion[::-1].find(\"!\")\n",
    "         if pos > 0:\n",
    "            expansion = expansion[:-pos]\n",
    "         else: # or comma\n",
    "            pos = expansion[::-1].find(\",\")\n",
    "            if pos > 0:\n",
    "               expansion = expansion[:-pos]\n",
    "      clean.append(expansion)\n",
    "      \n",
    "   return clean"
   ]
  },
  {
   "cell_type": "code",
   "execution_count": null,
   "metadata": {
    "button": false,
    "collapsed": true,
    "deletable": true,
    "new_sheet": false,
    "run_control": {
     "read_only": false
    }
   },
   "outputs": [],
   "source": [
    "# test only\n",
    "seed = \"\"\". he has an incredible appetite for her- -- and she, of course, did not take any interest in him at all! He has become quite a simpleminded man. And I think that, overall- Such an admirer of her performance on the stage as I was, and of her lyrical, and of her'northern music! \"I can well remember,\" he said at one time listen to her for ever. Oh! and I had almost forgotten one idea that \"\"\"\n",
    "expansions = [\"\"\". he has an incredible appetite for her- -- and she, of course, did not take any interest in him at all! He has become quite a simpleminded man. And I think that, overall- Such an admirer of her performance on the stage as I was, and of her lyrical, and of her'northern music! \"I can well remember,\" he said at one time listen to her for ever. Oh! and I had almost forgotten one idea that everything is fine\"\"\"]\n"
   ]
  },
  {
   "cell_type": "code",
   "execution_count": null,
   "metadata": {
    "button": false,
    "collapsed": true,
    "deletable": true,
    "new_sheet": false,
    "run_control": {
     "read_only": false
    }
   },
   "outputs": [],
   "source": [
    "# test only\n",
    "cleaned(expansions, seed)\n"
   ]
  },
  {
   "cell_type": "code",
   "execution_count": null,
   "metadata": {
    "button": false,
    "collapsed": true,
    "deletable": true,
    "new_sheet": false,
    "run_control": {
     "read_only": false
    }
   },
   "outputs": [],
   "source": [
    "# test only\n",
    "seedbag = word_tokenize(seed)\n",
    "cutseed = dt.detokenize(seedbag[1:])\n",
    "symlen = len(cutseed)\n",
    "cleaned = []\n",
    "expansion = \"\"\n",
    "pos = expansions[0].find(cutseed)"
   ]
  },
  {
   "cell_type": "code",
   "execution_count": null,
   "metadata": {
    "button": false,
    "collapsed": true,
    "deletable": true,
    "new_sheet": false,
    "run_control": {
     "read_only": false
    }
   },
   "outputs": [],
   "source": [
    "# test only\n",
    "generateLexeme(\"\")"
   ]
  },
  {
   "cell_type": "code",
   "execution_count": 8,
   "metadata": {
    "button": false,
    "colab": {},
    "colab_type": "code",
    "collapsed": true,
    "deletable": true,
    "id": "OL9417-w-dLJ",
    "new_sheet": false,
    "run_control": {
     "read_only": false
    }
   },
   "outputs": [],
   "source": [
    "# @every kernel restart\n",
    "# define the next piece to replace in the donor text\n",
    "def generateLexeme(sent):\n",
    "\n",
    "      if sent == \"\":\n",
    "         return\n",
    "\n",
    "      words = word_tokenize(sent)\n",
    "\n",
    "      lexeme = \"\"\n",
    "      count = 0\n",
    "\n",
    "      if len(words) <= maxonepiece:\n",
    "         processLexeme(sent) # too small to split\n",
    "\n",
    "      else:\n",
    "         for word in words:\n",
    "            count += 1\n",
    "            if (word in [\";\",\"-\",\"--\"] and count > minwords) or (word in [\",\", \"and\", \":\", \"for\", \"at\"] and count > softminwords) or count > maxwords:\n",
    "               if (len(words)-count) >  minwords:\n",
    "                  processLexeme(dt.detokenize(words[:count]))\n",
    "                  sentence = dt.detokenize(words[count:])\n",
    "                  generateLexeme(sentence)\n",
    "               else:\n",
    "                  processLexeme(dt.detokenize(words))\n",
    "               break\n",
    "         if count == len(words): # sentence could not be split in any reasonable way, give up.\n",
    "            processLexeme(sent)\n",
    "            "
   ]
  },
  {
   "cell_type": "code",
   "execution_count": 9,
   "metadata": {
    "button": false,
    "colab": {},
    "colab_type": "code",
    "collapsed": true,
    "deletable": true,
    "id": "LDmLlzZo-vpj",
    "new_sheet": false,
    "run_control": {
     "read_only": false
    }
   },
   "outputs": [],
   "source": [
    "# @every kernel restart\n",
    "# main RPS routine: extract a lexeme, generate candidates, replace with a best one\n",
    "def processLexeme(sent):\n",
    "\n",
    "   # always start from the first phrase\n",
    "   if not bestLexemes:\n",
    "      bestLexemes.append(sent)\n",
    "      print(\"Leading output with seed phrase: {}\".format(sent))\n",
    "      return\n",
    "    \n",
    "   seed = dt.detokenize(bestLexemes[-seedLexemes:])\n",
    "   print(\"seed: \\\"{}\\\"\".format(seed))\n",
    "   print(\"\\t  processing lexeme: \\\"{}\\\"\".format(sent))\n",
    "   \n",
    "   expansions = gpt2.generate(sess, nsamples=nsamples, batch_size=10, length=20, prefix=seed, return_as_list=True, include_prefix=False)\n",
    "   #expansions = gpt2.generate(sess, nsamples=nsamples, batch_size=10, length=20, prefix=seed, truncate=\".\", return_as_list=True, include_prefix=False)\n",
    "   #expansions += gpt2.generate(sess, nsamples=nsamples, batch_size=10, length=20, prefix=seed, truncate=\",\", return_as_list=True, include_prefix=False)\n",
    "   seeds_removed = cleaned(expansions, seed)\n",
    "   #expansions = [tokenizer.tokenize(expansion)[0] for expansion in seeds_removed]\n",
    "   expansions = [sent_tokenize(expansion)[0] for expansion in seeds_removed]\n",
    "   #print(\"  expansion set: {}\".format(expansions))\n",
    "  \n",
    "   messages = [sent]+expansions\n",
    "   bestLexeme = sent\n",
    "  \n",
    "   gc.collect()\n",
    "\n",
    "   with tf.Session(config=config) as session:\n",
    "      session.run(tf.global_variables_initializer())\n",
    "      session.run(tf.tables_initializer())\n",
    "      message_embeddings_ = session.run(similarity_message_encodings, feed_dict={similarity_input_placeholder: messages})\n",
    "\n",
    "      corr = np.inner(message_embeddings_, message_embeddings_)\n",
    "      embeddings = corr[0,1:]\n",
    "      #print(\"embeddings: {}\".format(embeddings))\n",
    "      \n",
    "      bestIndex = np.argmax(embeddings)\n",
    "      \n",
    "      if embeddings[bestIndex] >  minsimilarity:\n",
    "        \n",
    "         bestLexeme = expansions[bestIndex]\n",
    "            \n",
    "         # stats       \n",
    "         # calculate running average for accepted scores\n",
    "\n",
    "         acceptedLexemes[\"accepted\"] = acceptedLexemes[\"accepted\"]+1\n",
    "         acceptedLexemes[\"candidate_percent\"].append(np.sum(embeddings > minsimilarity)/nsamples)\n",
    "            \n",
    "         # join expansion with future lexeme smoothly\n",
    "        \n",
    "         originalEnding = word_tokenize(sent)[-1]\n",
    "         originalEnding = \" \" + originalEnding if originalEnding in [\"and\",\"for\", \"at\"] else originalEnding\n",
    "  \n",
    "         print(\"Original ending: {}\".format(originalEnding))\n",
    "         end = originalEnding if originalEnding in [\".\",\",\", \";\", \":\", \"-\", \"--\", \"?\", \"!\", \"...\", \" and\",\" for\", \" at\"] else \"\"\n",
    "\n",
    "        \n",
    "         lexemeEnding = word_tokenize(bestLexeme)[-1]\n",
    "         \n",
    "         # replace punctuation at end of lexeme if original punctuation existed\n",
    "         # if donor sentence not ending yet, ignore the expansion markers\n",
    "         if lexemeEnding in [\".\", \",\", \";\"]:\n",
    "         #if lexemeEnding in [\".\", \",\", \";\", \"?\", \"!\"]:\n",
    "            if end in [\".\", \"?\", \"!\"]:\n",
    "               bestLexeme = bestLexeme[:-1]+end\n",
    "            \n",
    "            # bestLexeme = bestLexeme # do nothing \n",
    "         # else plug from the content donor. Removing this line allows a lot of freedom to style generator\n",
    "         else:\n",
    "            bestLexeme = bestLexeme+end\n",
    "            \n",
    "      else:\n",
    "         # now need to harmonize with the end of the prior lexeme (if exists)\n",
    "\n",
    "         if bestLexemes:\n",
    "            lastLexeme = bestLexemes[-1]\n",
    "            if lastLexeme:\n",
    "                lastLexemeEnd = lastLexeme[-1]\n",
    "                # if the best lexeme starts a new sentence, force-end the last lexeme\n",
    "                bestLexemeStart = bestLexeme[0]\n",
    "                if bestLexemeStart.isupper() and lastLexemeEnd not in ['.', '!','?','...']:\n",
    "                    if lastLexemeEnd in [',', ';','-','--']: \n",
    "                        lastLexeme = lastLexemeEnd[:-1]\n",
    "                    lastLexeme=lastLexeme+\".\"\n",
    "                    bestLexemes[-1]=lastLexeme\n",
    "                # if last lexeme ended in a terminator, start from a capital letter\n",
    "                lastLexemeEnd = lastLexeme[-1]\n",
    "                if bestLexemeStart.islower() and lastLexemeEnd in ['.', '!','?','...']:\n",
    "                    #lastLexeme=lastLexeme[:-1]+\",\"\n",
    "                    #bestLexemes[-1]=lastLexeme\n",
    "                    bestLexeme=bestLexeme.capitalize() # shorten sentences a bit\n",
    "                    \n",
    "         acceptedLexemes[\"rejected\"] = acceptedLexemes[\"rejected\"]+1  \n",
    "        \n",
    "   print(\"  expanding with: \\\"{}\\\" bestscore: {} bestphrase: {}\".format(bestLexeme, embeddings[bestIndex], expansions[bestIndex]))\n",
    "   bestLexemes.append(bestLexeme)\n",
    "\n",
    "   output = dt.detokenize(bestLexemes)\n",
    "   Path(outputfile).write_text(output)\n",
    "    \n",
    "   #stats \n",
    "   acceptedLexemes[\"total_score\"] = acceptedLexemes[\"total_score\"]+embeddings[bestIndex]\n",
    "   print(acceptedLexemes)\n",
    "   Path(statsfile).write_text(str(acceptedLexemes))\n"
   ]
  },
  {
   "cell_type": "code",
   "execution_count": null,
   "metadata": {
    "button": false,
    "collapsed": false,
    "deletable": true,
    "new_sheet": false,
    "run_control": {
     "read_only": false
    },
    "scrolled": true
   },
   "outputs": [
    {
     "name": "stdout",
     "output_type": "stream",
     "text": [
      "Input sentence: \n",
      "\n",
      "The Bible (from Koine Greek τὰ βιβλία, tà biblía, \"the books\")[a] is a collection of sacred texts or scriptures.\n",
      "Leading output with seed phrase: The Bible (from Koine Greek τὰ βιβλία,\n",
      "seed: \"The Bible (from Koine Greek τὰ βιβλία,\"\n",
      "\t  processing lexeme: \"tà biblía, ``the books``) [a] is a collection of sacred texts or scriptures.\"\n",
      "Original ending: .\n",
      "  expanding with: \"\"Litana\"), is a collection of texts known as the Tanakh.\" bestscore: 0.8998443484306335 bestphrase: \"Litana\"), is a collection of texts known as the Tanakh.\n",
      "{'accepted': 1, 'rejected': 0, 'total_score': 0.8998443484306335, 'candidate_percent': [0.0001]}\n",
      "Input sentence: Varying parts of the Bible are considered to be a product of divine inspiration and a record of the relationship between God and humans by Christians, Jews, Samaritans, and Rastafari.\n",
      "seed: \"The Bible (from Koine Greek τὰ βιβλία, \"Litana\"), is a collection of texts known as the Tanakh.\"\n",
      "\t  processing lexeme: \"Varying parts of the Bible are considered to be a product of divine inspiration and\"\n",
      "  expanding with: \"Varying parts of the Bible are considered to be a product of divine inspiration and\" bestscore: 0.8597058653831482 bestphrase: The Bible was written by people who believed in the complete and traditional worship of the Old Testament.\n",
      "{'accepted': 1, 'rejected': 1, 'total_score': 1.7595502138137817, 'candidate_percent': [0.0001]}\n",
      "seed: \"The Bible (from Koine Greek τὰ βιβλία, \"Litana\"), is a collection of texts known as the Tanakh. Varying parts of the Bible are considered to be a product of divine inspiration and\"\n",
      "\t  processing lexeme: \"a record of the relationship between God and\"\n",
      "  expanding with: \"a record of the relationship between God and\" bestscore: 0.7495906352996826 bestphrase: of human interpretation by the Holy Spirit.\n",
      "{'accepted': 1, 'rejected': 2, 'total_score': 2.5091408491134644, 'candidate_percent': [0.0001]}\n",
      "seed: \"The Bible (from Koine Greek τὰ βιβλία, \"Litana\"), is a collection of texts known as the Tanakh. Varying parts of the Bible are considered to be a product of divine inspiration and a record of the relationship between God and\"\n",
      "\t  processing lexeme: \"humans by Christians, Jews, Samaritans, and Rastafari.\"\n",
      "  expanding with: \"humans by Christians, Jews, Samaritans, and Rastafari.\" bestscore: 0.8313415050506592 bestphrase: the people, the Jews and the Christians.\n",
      "{'accepted': 1, 'rejected': 3, 'total_score': 3.3404823541641235, 'candidate_percent': [0.0001]}\n",
      "Input sentence: The Bible appears in the form of an anthology, compiling texts of a variety of forms that are all linked by the belief that they collectively contain the word of God.\n",
      "seed: \"The Bible (from Koine Greek τὰ βιβλία, \"Litana\"), is a collection of texts known as the Tanakh. Varying parts of the Bible are considered to be a product of divine inspiration and a record of the relationship between God and humans by Christians, Jews, Samaritans, and Rastafari.\"\n",
      "\t  processing lexeme: \"The Bible appears in the form of an anthology,\"\n",
      "Original ending: ,\n",
      "  expanding with: \"The Bible reads as if it were a book of the Bible.\" bestscore: 0.8939602375030518 bestphrase: The Bible reads as if it were a book of the Bible.\n",
      "{'accepted': 2, 'rejected': 3, 'total_score': 4.234442591667175, 'candidate_percent': [0.0001, 0.0014]}\n",
      "seed: \"The Bible (from Koine Greek τὰ βιβλία, \"Litana\"), is a collection of texts known as the Tanakh. Varying parts of the Bible are considered to be a product of divine inspiration and a record of the relationship between God and humans by Christians, Jews, Samaritans, and Rastafari. The Bible reads as if it were a book of the Bible.\"\n",
      "\t  processing lexeme: \"compiling texts of a variety of forms that are all linked by the belief that they collectively\"\n",
      "  expanding with: \"Compiling Texts Of A Variety Of Forms That Are All Linked By The Belief That They Collectively\" bestscore: 0.7125929594039917 bestphrase: It is usually divided into three parts, or groups of texts.\n",
      "{'accepted': 2, 'rejected': 4, 'total_score': 4.947035551071167, 'candidate_percent': [0.0001, 0.0014]}\n",
      "seed: \"The Bible (from Koine Greek τὰ βιβλία, \"Litana\"), is a collection of texts known as the Tanakh. Varying parts of the Bible are considered to be a product of divine inspiration and a record of the relationship between God and humans by Christians, Jews, Samaritans, and Rastafari. The Bible reads as if it were a book of the Bible. Compiling Texts Of A Variety Of Forms That Are All Linked By The Belief That They Collectively\"\n",
      "\t  processing lexeme: \"contain the word of God.\"\n",
      "Original ending: .\n",
      "  expanding with: \"Contain The Word Of God.\" bestscore: 1.0000003576278687 bestphrase: Contain The Word Of God.\n",
      "{'accepted': 3, 'rejected': 4, 'total_score': 5.947035908699036, 'candidate_percent': [0.0001, 0.0014, 0.0205]}\n",
      "Input sentence: These texts include theologically-embellished historical accounts, hymns, allegorical erotica, parables, and didactic letters.\n",
      "seed: \"The Bible (from Koine Greek τὰ βιβλία, \"Litana\"), is a collection of texts known as the Tanakh. Varying parts of the Bible are considered to be a product of divine inspiration and a record of the relationship between God and humans by Christians, Jews, Samaritans, and Rastafari. The Bible reads as if it were a book of the Bible. Compiling Texts Of A Variety Of Forms That Are All Linked By The Belief That They Collectively Contain The Word Of God.\"\n",
      "\t  processing lexeme: \"These texts include theologically-embellished historical accounts, hymns,\"\n",
      "  expanding with: \"These texts include theologically-embellished historical accounts, hymns,\" bestscore: 0.8438848257064819 bestphrase: The Tanakh is not only a collection of texts.\n",
      "{'accepted': 3, 'rejected': 5, 'total_score': 6.790920734405518, 'candidate_percent': [0.0001, 0.0014, 0.0205]}\n",
      "seed: \"The Bible (from Koine Greek τὰ βιβλία, \"Litana\"), is a collection of texts known as the Tanakh. Varying parts of the Bible are considered to be a product of divine inspiration and a record of the relationship between God and humans by Christians, Jews, Samaritans, and Rastafari. The Bible reads as if it were a book of the Bible. Compiling Texts Of A Variety Of Forms That Are All Linked By The Belief That They Collectively Contain The Word Of God. These texts include theologically-embellished historical accounts, hymns,\"\n",
      "\t  processing lexeme: \"allegorical erotica, parables, and didactic letters.\"\n",
      "  expanding with: \"allegorical erotica, parables, and didactic letters.\" bestscore: 0.8223722577095032 bestphrase: parables, and other writing.\n",
      "{'accepted': 3, 'rejected': 6, 'total_score': 7.613292992115021, 'candidate_percent': [0.0001, 0.0014, 0.0205]}\n",
      "Input sentence: Those books included in the Bible by a tradition or group are called canonical, indicating that the tradition/group views the collection as the true representation of God's word and will.\n",
      "seed: \"The Bible (from Koine Greek τὰ βιβλία, \"Litana\"), is a collection of texts known as the Tanakh. Varying parts of the Bible are considered to be a product of divine inspiration and a record of the relationship between God and humans by Christians, Jews, Samaritans, and Rastafari. The Bible reads as if it were a book of the Bible. Compiling Texts Of A Variety Of Forms That Are All Linked By The Belief That They Collectively Contain The Word Of God. These texts include theologically-embellished historical accounts, hymns, allegorical erotica, parables, and didactic letters.\"\n",
      "\t  processing lexeme: \"Those books included in the Bible by a tradition or group are called canonical,\"\n",
      "  expanding with: \"Those books included in the Bible by a tradition or group are called canonical,\" bestscore: 0.8624509572982788 bestphrase: The Bible is also used by the clergy and as a holy text for many other groups.\n",
      "{'accepted': 3, 'rejected': 7, 'total_score': 8.4757439494133, 'candidate_percent': [0.0001, 0.0014, 0.0205]}\n",
      "seed: \"\"Litana\"), is a collection of texts known as the Tanakh. Varying parts of the Bible are considered to be a product of divine inspiration and a record of the relationship between God and humans by Christians, Jews, Samaritans, and Rastafari. The Bible reads as if it were a book of the Bible. Compiling Texts Of A Variety Of Forms That Are All Linked By The Belief That They Collectively Contain The Word Of God. These texts include theologically-embellished historical accounts, hymns, allegorical erotica, parables, and didactic letters. Those books included in the Bible by a tradition or group are called canonical,\"\n",
      "\t  processing lexeme: \"indicating that the tradition/group views the collection as the true representation of God's word and will.\"\n",
      "  expanding with: \"indicating that the tradition/group views the collection as the true representation of God's word and will.\" bestscore: 0.7405751347541809 bestphrase: and in the collection of Scripture are ``apocryphal ''or`` chronologically'' canonical.\n",
      "{'accepted': 3, 'rejected': 8, 'total_score': 9.21631908416748, 'candidate_percent': [0.0001, 0.0014, 0.0205]}\n",
      "Input sentence: A number of Biblical canons have evolved, with overlapping and diverging contents from denomination to denomination.\n",
      "seed: \"Varying parts of the Bible are considered to be a product of divine inspiration and a record of the relationship between God and humans by Christians, Jews, Samaritans, and Rastafari. The Bible reads as if it were a book of the Bible. Compiling Texts Of A Variety Of Forms That Are All Linked By The Belief That They Collectively Contain The Word Of God. These texts include theologically-embellished historical accounts, hymns, allegorical erotica, parables, and didactic letters. Those books included in the Bible by a tradition or group are called canonical, indicating that the tradition/group views the collection as the true representation of God's word and will.\"\n",
      "\t  processing lexeme: \"A number of Biblical canons have evolved,\"\n",
      "  expanding with: \"A number of Biblical canons have evolved,\" bestscore: 0.7662129402160645 bestphrase: The Bible is believed to have been composed by a number of different men,\n",
      "{'accepted': 3, 'rejected': 9, 'total_score': 9.982532024383545, 'candidate_percent': [0.0001, 0.0014, 0.0205]}\n",
      "seed: \"a record of the relationship between God and humans by Christians, Jews, Samaritans, and Rastafari. The Bible reads as if it were a book of the Bible. Compiling Texts Of A Variety Of Forms That Are All Linked By The Belief That They Collectively Contain The Word Of God. These texts include theologically-embellished historical accounts, hymns, allegorical erotica, parables, and didactic letters. Those books included in the Bible by a tradition or group are called canonical, indicating that the tradition/group views the collection as the true representation of God's word and will. A number of Biblical canons have evolved,\"\n",
      "\t  processing lexeme: \"with overlapping and diverging contents from denomination to denomination.\"\n",
      "  expanding with: \"with overlapping and diverging contents from denomination to denomination.\" bestscore: 0.8502461910247803 bestphrase: each with its own denomination.\n",
      "{'accepted': 3, 'rejected': 10, 'total_score': 10.832778215408325, 'candidate_percent': [0.0001, 0.0014, 0.0205]}\n",
      "Input sentence: The Hebrew Bible overlaps with the Greek Septuagint and the Christian Old Testament.\n",
      "seed: \"humans by Christians, Jews, Samaritans, and Rastafari. The Bible reads as if it were a book of the Bible. Compiling Texts Of A Variety Of Forms That Are All Linked By The Belief That They Collectively Contain The Word Of God. These texts include theologically-embellished historical accounts, hymns, allegorical erotica, parables, and didactic letters. Those books included in the Bible by a tradition or group are called canonical, indicating that the tradition/group views the collection as the true representation of God's word and will. A number of Biblical canons have evolved, with overlapping and diverging contents from denomination to denomination.\"\n",
      "\t  processing lexeme: \"The Hebrew Bible overlaps with the Greek Septuagint and\"\n",
      "Original ending:  and\n",
      "  expanding with: \"The following canons are included in the Greek New Testament (Ossian translation) and the Hebrew and\" bestscore: 0.9062636494636536 bestphrase: The following canons are included in the Greek New Testament (Ossian translation) and the Hebrew\n",
      "{'accepted': 4, 'rejected': 10, 'total_score': 11.739041864871979, 'candidate_percent': [0.0001, 0.0014, 0.0205, 0.0011]}\n",
      "seed: \"The Bible reads as if it were a book of the Bible. Compiling Texts Of A Variety Of Forms That Are All Linked By The Belief That They Collectively Contain The Word Of God. These texts include theologically-embellished historical accounts, hymns, allegorical erotica, parables, and didactic letters. Those books included in the Bible by a tradition or group are called canonical, indicating that the tradition/group views the collection as the true representation of God's word and will. A number of Biblical canons have evolved, with overlapping and diverging contents from denomination to denomination. The following canons are included in the Greek New Testament (Ossian translation) and the Hebrew and\"\n",
      "\t  processing lexeme: \"the Christian Old Testament.\"\n",
      "Original ending: .\n",
      "  expanding with: \"Christian Old Testament (centered on the Old Testament).\" bestscore: 0.9438725709915161 bestphrase: Christian Old Testament (centered on the Old Testament).\n",
      "{'accepted': 5, 'rejected': 10, 'total_score': 12.682914435863495, 'candidate_percent': [0.0001, 0.0014, 0.0205, 0.0011, 0.0225]}\n",
      "Input sentence: The Christian New Testament is a collection of writings by early Christians, believed to be mostly Jewish disciples of Christ, written in first-century Koine Greek.\n",
      "seed: \"Compiling Texts Of A Variety Of Forms That Are All Linked By The Belief That They Collectively Contain The Word Of God. These texts include theologically-embellished historical accounts, hymns, allegorical erotica, parables, and didactic letters. Those books included in the Bible by a tradition or group are called canonical, indicating that the tradition/group views the collection as the true representation of God's word and will. A number of Biblical canons have evolved, with overlapping and diverging contents from denomination to denomination. The following canons are included in the Greek New Testament (Ossian translation) and the Hebrew and Christian Old Testament (centered on the Old Testament).\"\n",
      "\t  processing lexeme: \"The Christian New Testament is a collection of writings by early Christians,\"\n",
      "Original ending: ,\n",
      "  expanding with: \"The Christian New Testament (or \"New Testament\") is a collection of writings of the Christian,\" bestscore: 0.9642016291618347 bestphrase: The Christian New Testament (or \"New Testament\") is a collection of writings of the Christian\n",
      "{'accepted': 6, 'rejected': 10, 'total_score': 13.64711606502533, 'candidate_percent': [0.0001, 0.0014, 0.0205, 0.0011, 0.0225, 0.0273]}\n",
      "seed: \"Contain The Word Of God. These texts include theologically-embellished historical accounts, hymns, allegorical erotica, parables, and didactic letters. Those books included in the Bible by a tradition or group are called canonical, indicating that the tradition/group views the collection as the true representation of God's word and will. A number of Biblical canons have evolved, with overlapping and diverging contents from denomination to denomination. The following canons are included in the Greek New Testament (Ossian translation) and the Hebrew and Christian Old Testament (centered on the Old Testament). The Christian New Testament (or \"New Testament\") is a collection of writings of the Christian,\"\n",
      "\t  processing lexeme: \"believed to be mostly Jewish disciples of Christ,\"\n",
      "  expanding with: \"believed to be mostly Jewish disciples of Christ,\" bestscore: 0.8324114084243774 bestphrase: East-West, and in some cases of the Jewish Christians.\n",
      "{'accepted': 6, 'rejected': 11, 'total_score': 14.479527473449707, 'candidate_percent': [0.0001, 0.0014, 0.0205, 0.0011, 0.0225, 0.0273]}\n",
      "seed: \"These texts include theologically-embellished historical accounts, hymns, allegorical erotica, parables, and didactic letters. Those books included in the Bible by a tradition or group are called canonical, indicating that the tradition/group views the collection as the true representation of God's word and will. A number of Biblical canons have evolved, with overlapping and diverging contents from denomination to denomination. The following canons are included in the Greek New Testament (Ossian translation) and the Hebrew and Christian Old Testament (centered on the Old Testament). The Christian New Testament (or \"New Testament\") is a collection of writings of the Christian, believed to be mostly Jewish disciples of Christ,\"\n",
      "\t  processing lexeme: \"written in first-century Koine Greek.\"\n",
      "Original ending: .\n",
      "  expanding with: \"written in Greek.\" bestscore: 0.9168084859848022 bestphrase: written in Greek.\n",
      "{'accepted': 7, 'rejected': 11, 'total_score': 15.39633595943451, 'candidate_percent': [0.0001, 0.0014, 0.0205, 0.0011, 0.0225, 0.0273, 0.0002]}\n",
      "Input sentence: Among Christian denominations there is some disagreement about what should be included in the canon, primarily about the biblical apocrypha, a list of works that are regarded with varying levels of respect.\n",
      "seed: \"allegorical erotica, parables, and didactic letters. Those books included in the Bible by a tradition or group are called canonical, indicating that the tradition/group views the collection as the true representation of God's word and will. A number of Biblical canons have evolved, with overlapping and diverging contents from denomination to denomination. The following canons are included in the Greek New Testament (Ossian translation) and the Hebrew and Christian Old Testament (centered on the Old Testament). The Christian New Testament (or \"New Testament\") is a collection of writings of the Christian, believed to be mostly Jewish disciples of Christ, written in Greek.\"\n",
      "\t  processing lexeme: \"Among Christian denominations there is some disagreement about what should be included in the canon,\"\n",
      "  expanding with: \"Among Christian denominations there is some disagreement about what should be included in the canon,\" bestscore: 0.8529022932052612 bestphrase: Other canons are included in the Dogmatic Canon of the Catholic Church which defines that the bible\n",
      "{'accepted': 7, 'rejected': 12, 'total_score': 16.24923825263977, 'candidate_percent': [0.0001, 0.0014, 0.0205, 0.0011, 0.0225, 0.0273, 0.0002]}\n",
      "seed: \"Those books included in the Bible by a tradition or group are called canonical, indicating that the tradition/group views the collection as the true representation of God's word and will. A number of Biblical canons have evolved, with overlapping and diverging contents from denomination to denomination. The following canons are included in the Greek New Testament (Ossian translation) and the Hebrew and Christian Old Testament (centered on the Old Testament). The Christian New Testament (or \"New Testament\") is a collection of writings of the Christian, believed to be mostly Jewish disciples of Christ, written in Greek. Among Christian denominations there is some disagreement about what should be included in the canon,\"\n",
      "\t  processing lexeme: \"primarily about the biblical apocrypha, a list of works that are regarded with varying levels of respect.\"\n",
      "  expanding with: \"primarily about the biblical apocrypha, a list of works that are regarded with varying levels of respect.\" bestscore: 0.8386310338973999 bestphrase: since many authors prefer to list the canonical Gospels (including the Gospel of Matthew) in the New\n",
      "{'accepted': 7, 'rejected': 13, 'total_score': 17.08786928653717, 'candidate_percent': [0.0001, 0.0014, 0.0205, 0.0011, 0.0225, 0.0273, 0.0002]}\n",
      "Input sentence: Attitudes towards the Bible also differ among Christian groups.\n",
      "seed: \"indicating that the tradition/group views the collection as the true representation of God's word and will. A number of Biblical canons have evolved, with overlapping and diverging contents from denomination to denomination. The following canons are included in the Greek New Testament (Ossian translation) and the Hebrew and Christian Old Testament (centered on the Old Testament). The Christian New Testament (or \"New Testament\") is a collection of writings of the Christian, believed to be mostly Jewish disciples of Christ, written in Greek. Among Christian denominations there is some disagreement about what should be included in the canon, primarily about the biblical apocrypha, a list of works that are regarded with varying levels of respect.\"\n",
      "\t  processing lexeme: \"Attitudes towards the Bible also differ among Christian groups.\"\n",
      "  expanding with: \"Attitudes towards the Bible also differ among Christian groups.\" bestscore: 0.8728527426719666 bestphrase: However, most Christians, including Orthodox Christians,\n",
      "{'accepted': 7, 'rejected': 14, 'total_score': 17.960722029209137, 'candidate_percent': [0.0001, 0.0014, 0.0205, 0.0011, 0.0225, 0.0273, 0.0002]}\n",
      "Input sentence: Roman Catholics, high church Anglicans, Methodists and Eastern Orthodox Christians stress the harmony and importance of both the Bible and sacred tradition, while many Protestant churches focus on the idea of sola scriptura, or scripture alone.\n",
      "seed: \"A number of Biblical canons have evolved, with overlapping and diverging contents from denomination to denomination. The following canons are included in the Greek New Testament (Ossian translation) and the Hebrew and Christian Old Testament (centered on the Old Testament). The Christian New Testament (or \"New Testament\") is a collection of writings of the Christian, believed to be mostly Jewish disciples of Christ, written in Greek. Among Christian denominations there is some disagreement about what should be included in the canon, primarily about the biblical apocrypha, a list of works that are regarded with varying levels of respect. Attitudes towards the Bible also differ among Christian groups.\"\n",
      "\t  processing lexeme: \"Roman Catholics, high church Anglicans, Methodists and\"\n",
      "Original ending:  and\n",
      "  expanding with: \"The Protestant Reformed Churches with a Roman Catholic Church.\" bestscore: 0.9022994041442871 bestphrase: The Protestant Reformed Churches with a Roman Catholic Church.\n",
      "{'accepted': 8, 'rejected': 14, 'total_score': 18.863021433353424, 'candidate_percent': [0.0001, 0.0014, 0.0205, 0.0011, 0.0225, 0.0273, 0.0002, 0.0015]}\n",
      "seed: \"with overlapping and diverging contents from denomination to denomination. The following canons are included in the Greek New Testament (Ossian translation) and the Hebrew and Christian Old Testament (centered on the Old Testament). The Christian New Testament (or \"New Testament\") is a collection of writings of the Christian, believed to be mostly Jewish disciples of Christ, written in Greek. Among Christian denominations there is some disagreement about what should be included in the canon, primarily about the biblical apocrypha, a list of works that are regarded with varying levels of respect. Attitudes towards the Bible also differ among Christian groups. The Protestant Reformed Churches with a Roman Catholic Church.\"\n",
      "\t  processing lexeme: \"Eastern Orthodox Christians stress the harmony and importance of both the Bible and\"\n",
      "  expanding with: \"Eastern Orthodox Christians stress the harmony and importance of both the Bible and\" bestscore: 0.83885657787323 bestphrase: The Eastern Orthodox Churches have their own interpretation of the Bible.\n",
      "{'accepted': 8, 'rejected': 15, 'total_score': 19.701878011226654, 'candidate_percent': [0.0001, 0.0014, 0.0205, 0.0011, 0.0225, 0.0273, 0.0002, 0.0015]}\n",
      "seed: \"The following canons are included in the Greek New Testament (Ossian translation) and the Hebrew and Christian Old Testament (centered on the Old Testament). The Christian New Testament (or \"New Testament\") is a collection of writings of the Christian, believed to be mostly Jewish disciples of Christ, written in Greek. Among Christian denominations there is some disagreement about what should be included in the canon, primarily about the biblical apocrypha, a list of works that are regarded with varying levels of respect. Attitudes towards the Bible also differ among Christian groups. The Protestant Reformed Churches with a Roman Catholic Church. Eastern Orthodox Christians stress the harmony and importance of both the Bible and\"\n",
      "\t  processing lexeme: \"sacred tradition, while many Protestant churches focus on the idea of sola scriptura,\"\n",
      "Original ending: ,\n",
      "  expanding with: \"the church tradition, while the Catholic and Eastern Orthodox Churches emphasize the importance of theology above tradition.\" bestscore: 0.9064513444900513 bestphrase: the church tradition, while the Catholic and Eastern Orthodox Churches emphasize the importance of theology above tradition.\n",
      "{'accepted': 9, 'rejected': 15, 'total_score': 20.608329355716705, 'candidate_percent': [0.0001, 0.0014, 0.0205, 0.0011, 0.0225, 0.0273, 0.0002, 0.0015, 0.0008]}\n",
      "seed: \"Christian Old Testament (centered on the Old Testament). The Christian New Testament (or \"New Testament\") is a collection of writings of the Christian, believed to be mostly Jewish disciples of Christ, written in Greek. Among Christian denominations there is some disagreement about what should be included in the canon, primarily about the biblical apocrypha, a list of works that are regarded with varying levels of respect. Attitudes towards the Bible also differ among Christian groups. The Protestant Reformed Churches with a Roman Catholic Church. Eastern Orthodox Christians stress the harmony and importance of both the Bible and the church tradition, while the Catholic and Eastern Orthodox Churches emphasize the importance of theology above tradition.\"\n",
      "\t  processing lexeme: \"or scripture alone.\"\n",
      "  expanding with: \"Or Scripture Alone.\" bestscore: 0.7478639483451843 bestphrase: Although the Bible be the central topic of religious life,\n",
      "{'accepted': 9, 'rejected': 16, 'total_score': 21.35619330406189, 'candidate_percent': [0.0001, 0.0014, 0.0205, 0.0011, 0.0225, 0.0273, 0.0002, 0.0015, 0.0008]}\n",
      "Input sentence: This concept arose during the Reformation, and many denominations today support the use of the Bible as the only infallible source of Christian teaching.\n",
      "seed: \"The Christian New Testament (or \"New Testament\") is a collection of writings of the Christian, believed to be mostly Jewish disciples of Christ, written in Greek. Among Christian denominations there is some disagreement about what should be included in the canon, primarily about the biblical apocrypha, a list of works that are regarded with varying levels of respect. Attitudes towards the Bible also differ among Christian groups. The Protestant Reformed Churches with a Roman Catholic Church. Eastern Orthodox Christians stress the harmony and importance of both the Bible and the church tradition, while the Catholic and Eastern Orthodox Churches emphasize the importance of theology above tradition. Or Scripture Alone.\"\n",
      "\t  processing lexeme: \"This concept arose during the Reformation, and\"\n",
      "  expanding with: \"This concept arose during the Reformation, and\" bestscore: 0.7869367003440857 bestphrase: The early church had not yet developed the concept of the ``divine like ''which was common to\n",
      "{'accepted': 9, 'rejected': 17, 'total_score': 22.143130004405975, 'candidate_percent': [0.0001, 0.0014, 0.0205, 0.0011, 0.0225, 0.0273, 0.0002, 0.0015, 0.0008]}\n",
      "seed: \"believed to be mostly Jewish disciples of Christ, written in Greek. Among Christian denominations there is some disagreement about what should be included in the canon, primarily about the biblical apocrypha, a list of works that are regarded with varying levels of respect. Attitudes towards the Bible also differ among Christian groups. The Protestant Reformed Churches with a Roman Catholic Church. Eastern Orthodox Christians stress the harmony and importance of both the Bible and the church tradition, while the Catholic and Eastern Orthodox Churches emphasize the importance of theology above tradition. Or Scripture Alone. This concept arose during the Reformation, and\"\n",
      "\t  processing lexeme: \"many denominations today support the use of the Bible as the only infallible source of Christian teaching.\"\n",
      "Original ending: .\n",
      "  expanding with: \"its emphasis was on the importance of the Bible as the ultimate source of all Christian doctrines.\" bestscore: 0.8893890380859375 bestphrase: its emphasis was on the importance of the Bible as the ultimate source of all Christian doctrines.\n",
      "{'accepted': 10, 'rejected': 17, 'total_score': 23.032519042491913, 'candidate_percent': [0.0001, 0.0014, 0.0205, 0.0011, 0.0225, 0.0273, 0.0002, 0.0015, 0.0008, 0.0001]}\n",
      "Input sentence: Others though, advance the concept of prima scriptura in contrast.\n",
      "seed: \"written in Greek. Among Christian denominations there is some disagreement about what should be included in the canon, primarily about the biblical apocrypha, a list of works that are regarded with varying levels of respect. Attitudes towards the Bible also differ among Christian groups. The Protestant Reformed Churches with a Roman Catholic Church. Eastern Orthodox Christians stress the harmony and importance of both the Bible and the church tradition, while the Catholic and Eastern Orthodox Churches emphasize the importance of theology above tradition. Or Scripture Alone. This concept arose during the Reformation, and its emphasis was on the importance of the Bible as the ultimate source of all Christian doctrines.\"\n",
      "\t  processing lexeme: \"Others though, advance the concept of prima scriptura in contrast.\"\n",
      "  expanding with: \"Others though, advance the concept of prima scriptura in contrast.\" bestscore: 0.7752704620361328 bestphrase: In contrast, many Protestant theologians, such as Martin Luther,\n",
      "{'accepted': 10, 'rejected': 18, 'total_score': 23.807789504528046, 'candidate_percent': [0.0001, 0.0014, 0.0205, 0.0011, 0.0225, 0.0273, 0.0002, 0.0015, 0.0008, 0.0001]}\n",
      "Input sentence: The Bible has been a massive influence on literature and history, especially in the Western world, where the Gutenberg Bible was the first book printed using movable type.\n",
      "seed: \"Among Christian denominations there is some disagreement about what should be included in the canon, primarily about the biblical apocrypha, a list of works that are regarded with varying levels of respect. Attitudes towards the Bible also differ among Christian groups. The Protestant Reformed Churches with a Roman Catholic Church. Eastern Orthodox Christians stress the harmony and importance of both the Bible and the church tradition, while the Catholic and Eastern Orthodox Churches emphasize the importance of theology above tradition. Or Scripture Alone. This concept arose during the Reformation, and its emphasis was on the importance of the Bible as the ultimate source of all Christian doctrines. Others though, advance the concept of prima scriptura in contrast.\"\n",
      "\t  processing lexeme: \"The Bible has been a massive influence on literature and\"\n",
      "Original ending:  and\n",
      "  expanding with: \"The Bible is one of the most popular and flexible religious texts.\" bestscore: 0.8931632041931152 bestphrase: The Bible is one of the most popular and flexible religious texts.\n",
      "{'accepted': 11, 'rejected': 18, 'total_score': 24.70095270872116, 'candidate_percent': [0.0001, 0.0014, 0.0205, 0.0011, 0.0225, 0.0273, 0.0002, 0.0015, 0.0008, 0.0001, 0.0006]}\n",
      "seed: \"primarily about the biblical apocrypha, a list of works that are regarded with varying levels of respect. Attitudes towards the Bible also differ among Christian groups. The Protestant Reformed Churches with a Roman Catholic Church. Eastern Orthodox Christians stress the harmony and importance of both the Bible and the church tradition, while the Catholic and Eastern Orthodox Churches emphasize the importance of theology above tradition. Or Scripture Alone. This concept arose during the Reformation, and its emphasis was on the importance of the Bible as the ultimate source of all Christian doctrines. Others though, advance the concept of prima scriptura in contrast. The Bible is one of the most popular and flexible religious texts.\"\n",
      "\t  processing lexeme: \"history, especially in the Western world,\"\n",
      "  expanding with: \"history, especially in the Western world,\" bestscore: 0.7994816303253174 bestphrase: At one time in the history of the Western world,\n",
      "{'accepted': 11, 'rejected': 19, 'total_score': 25.50043433904648, 'candidate_percent': [0.0001, 0.0014, 0.0205, 0.0011, 0.0225, 0.0273, 0.0002, 0.0015, 0.0008, 0.0001, 0.0006]}\n",
      "seed: \"Attitudes towards the Bible also differ among Christian groups. The Protestant Reformed Churches with a Roman Catholic Church. Eastern Orthodox Christians stress the harmony and importance of both the Bible and the church tradition, while the Catholic and Eastern Orthodox Churches emphasize the importance of theology above tradition. Or Scripture Alone. This concept arose during the Reformation, and its emphasis was on the importance of the Bible as the ultimate source of all Christian doctrines. Others though, advance the concept of prima scriptura in contrast. The Bible is one of the most popular and flexible religious texts. history, especially in the Western world,\"\n",
      "\t  processing lexeme: \"where the Gutenberg Bible was the first book printed using movable type.\"\n",
      "  expanding with: \"where the Gutenberg Bible was the first book printed using movable type.\" bestscore: 0.824623703956604 bestphrase: has added to the Bible's numerous manuscripts.\n",
      "{'accepted': 11, 'rejected': 20, 'total_score': 26.325058043003082, 'candidate_percent': [0.0001, 0.0014, 0.0205, 0.0011, 0.0225, 0.0273, 0.0002, 0.0015, 0.0008, 0.0001, 0.0006]}\n",
      "Input sentence: According to the March 2007 edition of Time, the Bible \"has done more to shape literature, history, entertainment, and culture than any book ever written.\n",
      "seed: \"The Protestant Reformed Churches with a Roman Catholic Church. Eastern Orthodox Christians stress the harmony and importance of both the Bible and the church tradition, while the Catholic and Eastern Orthodox Churches emphasize the importance of theology above tradition. Or Scripture Alone. This concept arose during the Reformation, and its emphasis was on the importance of the Bible as the ultimate source of all Christian doctrines. Others though, advance the concept of prima scriptura in contrast. The Bible is one of the most popular and flexible religious texts. history, especially in the Western world, where the Gutenberg Bible was the first book printed using movable type.\"\n",
      "\t  processing lexeme: \"According to the March 2007 edition of Time,\"\n",
      "  expanding with: \"According to the March 2007 edition of Time,\" bestscore: 0.5560154914855957 bestphrase: From the 16th to the 20th century,\n",
      "{'accepted': 11, 'rejected': 21, 'total_score': 26.881073534488678, 'candidate_percent': [0.0001, 0.0014, 0.0205, 0.0011, 0.0225, 0.0273, 0.0002, 0.0015, 0.0008, 0.0001, 0.0006]}\n",
      "seed: \"Eastern Orthodox Christians stress the harmony and importance of both the Bible and the church tradition, while the Catholic and Eastern Orthodox Churches emphasize the importance of theology above tradition. Or Scripture Alone. This concept arose during the Reformation, and its emphasis was on the importance of the Bible as the ultimate source of all Christian doctrines. Others though, advance the concept of prima scriptura in contrast. The Bible is one of the most popular and flexible religious texts. history, especially in the Western world, where the Gutenberg Bible was the first book printed using movable type. According to the March 2007 edition of Time,\"\n",
      "\t  processing lexeme: \"the Bible ``has done more to shape literature,\"\n",
      "Original ending: ,\n",
      "  expanding with: \"the Bible has \"become\" a \"remarkably influential and enduring\" book.\" bestscore: 0.8847820162773132 bestphrase: the Bible has \"become\" a \"remarkably influential and enduring\" book.\n",
      "{'accepted': 12, 'rejected': 21, 'total_score': 27.76585555076599, 'candidate_percent': [0.0001, 0.0014, 0.0205, 0.0011, 0.0225, 0.0273, 0.0002, 0.0015, 0.0008, 0.0001, 0.0006, 0.0001]}\n",
      "seed: \"the church tradition, while the Catholic and Eastern Orthodox Churches emphasize the importance of theology above tradition. Or Scripture Alone. This concept arose during the Reformation, and its emphasis was on the importance of the Bible as the ultimate source of all Christian doctrines. Others though, advance the concept of prima scriptura in contrast. The Bible is one of the most popular and flexible religious texts. history, especially in the Western world, where the Gutenberg Bible was the first book printed using movable type. According to the March 2007 edition of Time, the Bible has \"become\" a \"remarkably influential and enduring\" book.\"\n",
      "\t  processing lexeme: \"history, entertainment, and culture than any book ever written.\"\n",
      "  expanding with: \"History, Entertainment, And Culture Than Any Book Ever Written.\" bestscore: 0.7665412425994873 bestphrase: The Bible is ``the greatest influence on American culture, literature, and philosophy.\n",
      "{'accepted': 12, 'rejected': 22, 'total_score': 28.53239679336548, 'candidate_percent': [0.0001, 0.0014, 0.0205, 0.0011, 0.0225, 0.0273, 0.0002, 0.0015, 0.0008, 0.0001, 0.0006, 0.0001]}\n",
      "Input sentence: Its influence on world history is unparalleled, and shows no signs of abating.\"\n",
      "seed: \"Or Scripture Alone. This concept arose during the Reformation, and its emphasis was on the importance of the Bible as the ultimate source of all Christian doctrines. Others though, advance the concept of prima scriptura in contrast. The Bible is one of the most popular and flexible religious texts. history, especially in the Western world, where the Gutenberg Bible was the first book printed using movable type. According to the March 2007 edition of Time, the Bible has \"become\" a \"remarkably influential and enduring\" book. History, Entertainment, And Culture Than Any Book Ever Written.\"\n",
      "\t  processing lexeme: \"Its influence on world history is unparalleled,\"\n",
      "  expanding with: \"Its influence on world history is unparalleled,\" bestscore: 0.8163565397262573 bestphrase: History is the study of human history.\n",
      "{'accepted': 12, 'rejected': 23, 'total_score': 29.348753333091736, 'candidate_percent': [0.0001, 0.0014, 0.0205, 0.0011, 0.0225, 0.0273, 0.0002, 0.0015, 0.0008, 0.0001, 0.0006, 0.0001]}\n",
      "seed: \"This concept arose during the Reformation, and its emphasis was on the importance of the Bible as the ultimate source of all Christian doctrines. Others though, advance the concept of prima scriptura in contrast. The Bible is one of the most popular and flexible religious texts. history, especially in the Western world, where the Gutenberg Bible was the first book printed using movable type. According to the March 2007 edition of Time, the Bible has \"become\" a \"remarkably influential and enduring\" book. History, Entertainment, And Culture Than Any Book Ever Written. Its influence on world history is unparalleled,\"\n",
      "\t  processing lexeme: \"and shows no signs of abating. ''\"\n",
      "  expanding with: \"and shows no signs of abating. ''\" bestscore: 0.7115715742111206 bestphrase: and likely to continue.\n",
      "{'accepted': 12, 'rejected': 24, 'total_score': 30.060324907302856, 'candidate_percent': [0.0001, 0.0014, 0.0205, 0.0011, 0.0225, 0.0273, 0.0002, 0.0015, 0.0008, 0.0001, 0.0006, 0.0001]}\n",
      "Input sentence: With estimated total sales of over 5 billion copies, it is widely considered to be the most influential and best-selling book of all time.\n",
      "seed: \"its emphasis was on the importance of the Bible as the ultimate source of all Christian doctrines. Others though, advance the concept of prima scriptura in contrast. The Bible is one of the most popular and flexible religious texts. history, especially in the Western world, where the Gutenberg Bible was the first book printed using movable type. According to the March 2007 edition of Time, the Bible has \"become\" a \"remarkably influential and enduring\" book. History, Entertainment, And Culture Than Any Book Ever Written. Its influence on world history is unparalleled, and shows no signs of abating. ''\"\n",
      "\t  processing lexeme: \"With estimated total sales of over 5 billion copies,\"\n",
      "  expanding with: \"With estimated total sales of over 5 billion copies,\" bestscore: 0.8260071873664856 bestphrase: ''More than 350 million copies have been sold.\n",
      "{'accepted': 12, 'rejected': 25, 'total_score': 30.886332094669342, 'candidate_percent': [0.0001, 0.0014, 0.0205, 0.0011, 0.0225, 0.0273, 0.0002, 0.0015, 0.0008, 0.0001, 0.0006, 0.0001]}\n",
      "seed: \"Others though, advance the concept of prima scriptura in contrast. The Bible is one of the most popular and flexible religious texts. history, especially in the Western world, where the Gutenberg Bible was the first book printed using movable type. According to the March 2007 edition of Time, the Bible has \"become\" a \"remarkably influential and enduring\" book. History, Entertainment, And Culture Than Any Book Ever Written. Its influence on world history is unparalleled, and shows no signs of abating. ''With estimated total sales of over 5 billion copies,\"\n",
      "\t  processing lexeme: \"it is widely considered to be the most influential and\"\n"
     ]
    }
   ],
   "source": [
    "outputfile =  outfile + \"0\" # str(ind)\n",
    "statsfile = sfile + \"0\" # str(ind)\n",
    "input = input14\n",
    "    \n",
    "bestLexemes = []\n",
    "acceptedLexemes = {\"accepted\":0, \"rejected\":0, \"total_score\": 0, \"candidate_percent\":[]}\n",
    "\n",
    "sentences = sent_tokenize(input)\n",
    "#sentences = tokenizer.tokenize(input)\n",
    "\n",
    "for sent in sentences:\n",
    "   print(\"Input sentence: {}\".format(sent))\n",
    "   generateLexeme(sent)\n",
    "\n",
    "output = dt.detokenize(bestLexemes)\n",
    "Path(outputfile).write_text(output)\n",
    "\n",
    "print(\"\\n\")\n",
    "print(output)\n",
    "print(\"\\n\")\n",
    "print(\"------------------------------------------------------------\")\n",
    "print(input)\n",
    "\n",
    "    \n",
    "\n",
    "\n"
   ]
  },
  {
   "cell_type": "code",
   "execution_count": null,
   "metadata": {
    "button": false,
    "collapsed": true,
    "deletable": true,
    "new_sheet": false,
    "run_control": {
     "read_only": false
    }
   },
   "outputs": [],
   "source": [
    "from tensorflow.contrib.memory_stats.python.ops.memory_stats_ops import BytesInUse\n",
    "with tf.device('/device:GPU:0'):  \n",
    "  bytes_in_use = BytesInUse()\n",
    "with tf.Session() as sess:\n",
    "  print(sess.run(bytes_in_use))"
   ]
  },
  {
   "cell_type": "code",
   "execution_count": null,
   "metadata": {
    "button": false,
    "collapsed": true,
    "deletable": true,
    "new_sheet": false,
    "run_control": {
     "read_only": false
    }
   },
   "outputs": [],
   "source": []
  }
 ],
 "metadata": {
  "accelerator": "GPU",
  "colab": {
   "include_colab_link": true,
   "name": "RPS.ipynb",
   "provenance": [],
   "version": "0.3.2"
  },
  "kernelspec": {
   "display_name": "Python 3",
   "language": "python",
   "name": "python3"
  },
  "language_info": {
   "codemirror_mode": {
    "name": "ipython",
    "version": 3
   },
   "file_extension": ".py",
   "mimetype": "text/x-python",
   "name": "python",
   "nbconvert_exporter": "python",
   "pygments_lexer": "ipython3",
   "version": "3.5.0"
  }
 },
 "nbformat": 4,
 "nbformat_minor": 1
}
